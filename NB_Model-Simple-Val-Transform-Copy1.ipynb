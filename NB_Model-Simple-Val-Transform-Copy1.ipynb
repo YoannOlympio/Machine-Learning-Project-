{
 "cells": [
  {
   "cell_type": "markdown",
   "id": "cb7d8fa1-fde1-40c2-bb81-c490af9f48a4",
   "metadata": {
    "tags": []
   },
   "source": [
    "**Data loading and model architecture are based on the tutorial <https://cv.gluon.ai/build/examples_action_recognition/finetune_custom.html>**"
   ]
  },
  {
   "cell_type": "markdown",
   "id": "faf12bcb-4a44-4636-850e-fecfb4a16a4b",
   "metadata": {
    "tags": []
   },
   "source": [
    "TEST WHEN GPU IS AVAILABLE AGAIN"
   ]
  },
  {
   "cell_type": "code",
   "execution_count": 1,
   "id": "03873651-fed4-4c57-80db-3752cababe2b",
   "metadata": {},
   "outputs": [],
   "source": [
    "SAVE_VALIDATION_VIDEOS = True\n",
    "filestem = 'model_saves_3/'\n",
    "AUTOSAVE_FREQUENCY = 10\n",
    "EPOCHS = 1\n",
    "\n",
    "INITIAL_LEARNING_RATE = 0\n",
    "# INITIAL_LEARNING_RATE = 0.001"
   ]
  },
  {
   "cell_type": "code",
   "execution_count": 2,
   "id": "6b6fcccc-4832-4865-965f-5b61c8b8d236",
   "metadata": {},
   "outputs": [],
   "source": [
    "from __future__ import division\n",
    "\n",
    "import argparse, time, logging, os, sys, math\n",
    "\n",
    "import numpy as np\n",
    "import mxnet as mx\n",
    "import gluoncv as gcv\n",
    "from mxnet import gluon, nd, init, context\n",
    "from mxnet import autograd as ag\n",
    "from mxnet.gluon import nn\n",
    "from mxnet.gluon.data.vision import transforms\n",
    "\n",
    "from gluoncv.data.transforms import video\n",
    "from gluoncv.data import VideoClsCustom\n",
    "from gluoncv.model_zoo import get_model\n",
    "from gluoncv.utils import makedirs, LRSequential, LRScheduler, split_and_load, TrainingHistory\n",
    "\n",
    "import imageio"
   ]
  },
  {
   "cell_type": "markdown",
   "id": "52942929-02d6-43a9-9f5f-61e01b3b9786",
   "metadata": {},
   "source": [
    "**Functions `pickle_stuff()` and `unpickle_stuff()` are used to save and load everything important about the model and its training.** <br> Note that even though the names say 'pickle', not all of the files are actually '.pkl' format; I'm using 'pickle' in its more general sense as 'preserve'.  Thanks to <https://mxnet.apache.org/versions/1.9.1/api/python/docs/tutorials/packages/gluon/blocks/save_load_params.html> for assistance."
   ]
  },
  {
   "cell_type": "code",
   "execution_count": 3,
   "id": "8f146e7d-bf94-4b88-b1b2-5f2f3d6c9bbc",
   "metadata": {},
   "outputs": [],
   "source": [
    "import pickle\n",
    "\n",
    "def pickle_stuff():\n",
    "    with open(filestem + 'preserved_history.pkl', 'wb') as pkl_file:\n",
    "        pickle.dump(train_history, pkl_file)\n",
    "    with open(filestem + 'preserved_epoch_count.pkl', 'wb') as pkl_file:\n",
    "        pickle.dump(total_epochs, pkl_file)\n",
    "    net.save_parameters(f'{filestem}preserved_params_{total_epochs:04d}.params')\n",
    "\n",
    "def unpickle_stuff():\n",
    "    global train_history, total_epochs, net\n",
    "    with open(filestem + 'preserved_history.pkl', 'rb') as pkl_file:\n",
    "        train_history = pickle.load(pkl_file)\n",
    "    with open(filestem + 'preserved_epoch_count.pkl', 'rb') as pkl_file:\n",
    "        total_epochs = pickle.load(pkl_file)\n",
    "    net.load_parameters(f'{filestem}preserved_params_{total_epochs:04d}.params', ctx=ctx)"
   ]
  },
  {
   "cell_type": "code",
   "execution_count": 4,
   "id": "3c0f32a7-6904-46c5-9d40-ded9ae7224b0",
   "metadata": {},
   "outputs": [],
   "source": [
    "def predict_classes(prob_array):\n",
    "    prob_array = nd.squeeze(prob_array)\n",
    "    return nd.argsort(prob_array, dtype='int64')[::-1]"
   ]
  },
  {
   "cell_type": "markdown",
   "id": "20164ef1-d9ef-45a4-a8a9-af754377efaa",
   "metadata": {},
   "source": [
    "**We now return to our regularly-scheduled tutorial 7.**"
   ]
  },
  {
   "cell_type": "code",
   "execution_count": 5,
   "id": "5ff8a17c-6047-424a-a705-069eacaa09c2",
   "metadata": {},
   "outputs": [],
   "source": [
    "num_gpus = 1\n",
    "ctx = [mx.gpu(i) for i in range(num_gpus)]\n",
    "\n",
    "transform_train = video.VideoGroupTrainTransform(size=(224, 224), scale_ratios=[1.0, 0.8], mean=[0.485, 0.456, 0.406], std=[0.229, 0.224, 0.225])\n",
    "transform_val = video.VideoGroupValTransform(size=(224, 224), mean=[0.485, 0.456, 0.406], std=[0.229, 0.224, 0.225])\n",
    "\n",
    "per_device_batch_size = 5\n",
    "num_workers = 0\n",
    "batch_size = per_device_batch_size * num_gpus"
   ]
  },
  {
   "cell_type": "markdown",
   "id": "a5dcf3a8-ac5e-4c12-8104-b45d8f1eca83",
   "metadata": {},
   "source": [
    "Interesting fact: there is actually a certain amount of data augmentation coming from the tutorial.  Here's another article that might (or might not) be useful: <https://mxnet.apache.org/versions/1.9.1/api/python/docs/tutorials/packages/gluon/data/data_augmentation.html>"
   ]
  },
  {
   "cell_type": "code",
   "execution_count": 6,
   "id": "6060ea94-8114-4576-b611-be502c59116a",
   "metadata": {},
   "outputs": [
    {
     "name": "stdout",
     "output_type": "stream",
     "text": [
      "Load 3036 training samples.\n",
      "Load 911 validation samples.\n"
     ]
    }
   ],
   "source": [
    "train_dataset = VideoClsCustom(root='',\n",
    "                               setting='train_100_med.txt',\n",
    "                               train=True,\n",
    "                               new_length=32,\n",
    "                               transform=transform_train,\n",
    "                               video_loader=True,\n",
    "                               video_ext='.mp4'\n",
    "                              )\n",
    "print('Load %d training samples.' % len(train_dataset))\n",
    "train_data = gluon.data.DataLoader(train_dataset, batch_size=batch_size,\n",
    "                                   shuffle=True, num_workers=num_workers)\n",
    "\n",
    "val_dataset = VideoClsCustom(root='',\n",
    "                               setting='val_100_med.txt',\n",
    "                               train=False,\n",
    "                               new_length=32,\n",
    "                               transform=transform_val,\n",
    "                               video_loader=True,\n",
    "                               video_ext='.mp4'\n",
    "                              )\n",
    "print('Load %d validation samples.' % len(val_dataset))\n",
    "val_data = gluon.data.DataLoader(val_dataset, batch_size=batch_size,\n",
    "                                   shuffle=True, num_workers=num_workers)"
   ]
  },
  {
   "cell_type": "markdown",
   "id": "c17c26ec-96e8-4d69-91d0-7641613053fa",
   "metadata": {},
   "source": [
    "**TODO** Try to add dropout in the last layers, as a regularization technique.\n",
    "(Printing the model reveals one of them already has a dropout of 0.8, which could be modified.)"
   ]
  },
  {
   "cell_type": "code",
   "execution_count": 7,
   "id": "7166e74f-e34e-4307-b7a2-28b676ff7fb9",
   "metadata": {
    "tags": []
   },
   "outputs": [
    {
     "name": "stdout",
     "output_type": "stream",
     "text": [
      "conv0_weight is done with shape:  (64, 3, 5, 7, 7)\n",
      "batchnorm0_gamma is done with shape:  (64,)\n",
      "batchnorm0_beta is done with shape:  (64,)\n",
      "batchnorm0_running_mean is done with shape:  (64,)\n",
      "batchnorm0_running_var is done with shape:  (64,)\n",
      "layer1_0_conv0_weight is done with shape:  (64, 64, 3, 1, 1)\n",
      "layer1_0_batchnorm0_gamma is done with shape:  (64,)\n",
      "layer1_0_batchnorm0_beta is done with shape:  (64,)\n",
      "layer1_0_batchnorm0_running_mean is done with shape:  (64,)\n",
      "layer1_0_batchnorm0_running_var is done with shape:  (64,)\n",
      "layer1_0_conv1_weight is done with shape:  (64, 64, 1, 3, 3)\n",
      "layer1_0_batchnorm1_gamma is done with shape:  (64,)\n",
      "layer1_0_batchnorm1_beta is done with shape:  (64,)\n",
      "layer1_0_batchnorm1_running_mean is done with shape:  (64,)\n",
      "layer1_0_batchnorm1_running_var is done with shape:  (64,)\n",
      "layer1_0_conv2_weight is done with shape:  (256, 64, 1, 1, 1)\n",
      "layer1_0_batchnorm2_gamma is done with shape:  (256,)\n",
      "layer1_0_batchnorm2_beta is done with shape:  (256,)\n",
      "layer1_0_batchnorm2_running_mean is done with shape:  (256,)\n",
      "layer1_0_batchnorm2_running_var is done with shape:  (256,)\n",
      "layer1_downsample_conv0_weight is done with shape:  (256, 64, 1, 1, 1)\n",
      "layer1_downsample_batchnorm0_gamma is done with shape:  (256,)\n",
      "layer1_downsample_batchnorm0_beta is done with shape:  (256,)\n",
      "layer1_downsample_batchnorm0_running_mean is done with shape:  (256,)\n",
      "layer1_downsample_batchnorm0_running_var is done with shape:  (256,)\n",
      "layer1_1_conv0_weight is done with shape:  (64, 256, 3, 1, 1)\n",
      "layer1_1_batchnorm0_gamma is done with shape:  (64,)\n",
      "layer1_1_batchnorm0_beta is done with shape:  (64,)\n",
      "layer1_1_batchnorm0_running_mean is done with shape:  (64,)\n",
      "layer1_1_batchnorm0_running_var is done with shape:  (64,)\n",
      "layer1_1_conv1_weight is done with shape:  (64, 64, 1, 3, 3)\n",
      "layer1_1_batchnorm1_gamma is done with shape:  (64,)\n",
      "layer1_1_batchnorm1_beta is done with shape:  (64,)\n",
      "layer1_1_batchnorm1_running_mean is done with shape:  (64,)\n",
      "layer1_1_batchnorm1_running_var is done with shape:  (64,)\n",
      "layer1_1_conv2_weight is done with shape:  (256, 64, 1, 1, 1)\n",
      "layer1_1_batchnorm2_gamma is done with shape:  (256,)\n",
      "layer1_1_batchnorm2_beta is done with shape:  (256,)\n",
      "layer1_1_batchnorm2_running_mean is done with shape:  (256,)\n",
      "layer1_1_batchnorm2_running_var is done with shape:  (256,)\n",
      "layer1_2_conv0_weight is done with shape:  (64, 256, 3, 1, 1)\n",
      "layer1_2_batchnorm0_gamma is done with shape:  (64,)\n",
      "layer1_2_batchnorm0_beta is done with shape:  (64,)\n",
      "layer1_2_batchnorm0_running_mean is done with shape:  (64,)\n",
      "layer1_2_batchnorm0_running_var is done with shape:  (64,)\n",
      "layer1_2_conv1_weight is done with shape:  (64, 64, 1, 3, 3)\n",
      "layer1_2_batchnorm1_gamma is done with shape:  (64,)\n",
      "layer1_2_batchnorm1_beta is done with shape:  (64,)\n",
      "layer1_2_batchnorm1_running_mean is done with shape:  (64,)\n",
      "layer1_2_batchnorm1_running_var is done with shape:  (64,)\n",
      "layer1_2_conv2_weight is done with shape:  (256, 64, 1, 1, 1)\n",
      "layer1_2_batchnorm2_gamma is done with shape:  (256,)\n",
      "layer1_2_batchnorm2_beta is done with shape:  (256,)\n",
      "layer1_2_batchnorm2_running_mean is done with shape:  (256,)\n",
      "layer1_2_batchnorm2_running_var is done with shape:  (256,)\n",
      "layer2_0_conv0_weight is done with shape:  (128, 256, 3, 1, 1)\n",
      "layer2_0_batchnorm0_gamma is done with shape:  (128,)\n",
      "layer2_0_batchnorm0_beta is done with shape:  (128,)\n",
      "layer2_0_batchnorm0_running_mean is done with shape:  (128,)\n",
      "layer2_0_batchnorm0_running_var is done with shape:  (128,)\n",
      "layer2_0_conv1_weight is done with shape:  (128, 128, 1, 3, 3)\n",
      "layer2_0_batchnorm1_gamma is done with shape:  (128,)\n",
      "layer2_0_batchnorm1_beta is done with shape:  (128,)\n",
      "layer2_0_batchnorm1_running_mean is done with shape:  (128,)\n",
      "layer2_0_batchnorm1_running_var is done with shape:  (128,)\n",
      "layer2_0_conv2_weight is done with shape:  (512, 128, 1, 1, 1)\n",
      "layer2_0_batchnorm2_gamma is done with shape:  (512,)\n",
      "layer2_0_batchnorm2_beta is done with shape:  (512,)\n",
      "layer2_0_batchnorm2_running_mean is done with shape:  (512,)\n",
      "layer2_0_batchnorm2_running_var is done with shape:  (512,)\n",
      "layer2_downsample_conv0_weight is done with shape:  (512, 256, 1, 1, 1)\n",
      "layer2_downsample_batchnorm0_gamma is done with shape:  (512,)\n",
      "layer2_downsample_batchnorm0_beta is done with shape:  (512,)\n",
      "layer2_downsample_batchnorm0_running_mean is done with shape:  (512,)\n",
      "layer2_downsample_batchnorm0_running_var is done with shape:  (512,)\n",
      "layer2_1_conv0_weight is done with shape:  (128, 512, 1, 1, 1)\n",
      "layer2_1_batchnorm0_gamma is done with shape:  (128,)\n",
      "layer2_1_batchnorm0_beta is done with shape:  (128,)\n",
      "layer2_1_batchnorm0_running_mean is done with shape:  (128,)\n",
      "layer2_1_batchnorm0_running_var is done with shape:  (128,)\n",
      "layer2_1_conv1_weight is done with shape:  (128, 128, 1, 3, 3)\n",
      "layer2_1_batchnorm1_gamma is done with shape:  (128,)\n",
      "layer2_1_batchnorm1_beta is done with shape:  (128,)\n",
      "layer2_1_batchnorm1_running_mean is done with shape:  (128,)\n",
      "layer2_1_batchnorm1_running_var is done with shape:  (128,)\n",
      "layer2_1_conv2_weight is done with shape:  (512, 128, 1, 1, 1)\n",
      "layer2_1_batchnorm2_gamma is done with shape:  (512,)\n",
      "layer2_1_batchnorm2_beta is done with shape:  (512,)\n",
      "layer2_1_batchnorm2_running_mean is done with shape:  (512,)\n",
      "layer2_1_batchnorm2_running_var is done with shape:  (512,)\n",
      "layer2_2_conv0_weight is done with shape:  (128, 512, 3, 1, 1)\n",
      "layer2_2_batchnorm0_gamma is done with shape:  (128,)\n",
      "layer2_2_batchnorm0_beta is done with shape:  (128,)\n",
      "layer2_2_batchnorm0_running_mean is done with shape:  (128,)\n",
      "layer2_2_batchnorm0_running_var is done with shape:  (128,)\n",
      "layer2_2_conv1_weight is done with shape:  (128, 128, 1, 3, 3)\n",
      "layer2_2_batchnorm1_gamma is done with shape:  (128,)\n",
      "layer2_2_batchnorm1_beta is done with shape:  (128,)\n",
      "layer2_2_batchnorm1_running_mean is done with shape:  (128,)\n",
      "layer2_2_batchnorm1_running_var is done with shape:  (128,)\n",
      "layer2_2_conv2_weight is done with shape:  (512, 128, 1, 1, 1)\n",
      "layer2_2_batchnorm2_gamma is done with shape:  (512,)\n",
      "layer2_2_batchnorm2_beta is done with shape:  (512,)\n",
      "layer2_2_batchnorm2_running_mean is done with shape:  (512,)\n",
      "layer2_2_batchnorm2_running_var is done with shape:  (512,)\n",
      "layer2_3_conv0_weight is done with shape:  (128, 512, 1, 1, 1)\n",
      "layer2_3_batchnorm0_gamma is done with shape:  (128,)\n",
      "layer2_3_batchnorm0_beta is done with shape:  (128,)\n",
      "layer2_3_batchnorm0_running_mean is done with shape:  (128,)\n",
      "layer2_3_batchnorm0_running_var is done with shape:  (128,)\n",
      "layer2_3_conv1_weight is done with shape:  (128, 128, 1, 3, 3)\n",
      "layer2_3_batchnorm1_gamma is done with shape:  (128,)\n",
      "layer2_3_batchnorm1_beta is done with shape:  (128,)\n",
      "layer2_3_batchnorm1_running_mean is done with shape:  (128,)\n",
      "layer2_3_batchnorm1_running_var is done with shape:  (128,)\n",
      "layer2_3_conv2_weight is done with shape:  (512, 128, 1, 1, 1)\n",
      "layer2_3_batchnorm2_gamma is done with shape:  (512,)\n",
      "layer2_3_batchnorm2_beta is done with shape:  (512,)\n",
      "layer2_3_batchnorm2_running_mean is done with shape:  (512,)\n",
      "layer2_3_batchnorm2_running_var is done with shape:  (512,)\n",
      "layer3_0_conv0_weight is done with shape:  (256, 512, 3, 1, 1)\n",
      "layer3_0_batchnorm0_gamma is done with shape:  (256,)\n",
      "layer3_0_batchnorm0_beta is done with shape:  (256,)\n",
      "layer3_0_batchnorm0_running_mean is done with shape:  (256,)\n",
      "layer3_0_batchnorm0_running_var is done with shape:  (256,)\n",
      "layer3_0_conv1_weight is done with shape:  (256, 256, 1, 3, 3)\n",
      "layer3_0_batchnorm1_gamma is done with shape:  (256,)\n",
      "layer3_0_batchnorm1_beta is done with shape:  (256,)\n",
      "layer3_0_batchnorm1_running_mean is done with shape:  (256,)\n",
      "layer3_0_batchnorm1_running_var is done with shape:  (256,)\n",
      "layer3_0_conv2_weight is done with shape:  (1024, 256, 1, 1, 1)\n",
      "layer3_0_batchnorm2_gamma is done with shape:  (1024,)\n",
      "layer3_0_batchnorm2_beta is done with shape:  (1024,)\n",
      "layer3_0_batchnorm2_running_mean is done with shape:  (1024,)\n",
      "layer3_0_batchnorm2_running_var is done with shape:  (1024,)\n",
      "layer3_downsample_conv0_weight is done with shape:  (1024, 512, 1, 1, 1)\n",
      "layer3_downsample_batchnorm0_gamma is done with shape:  (1024,)\n",
      "layer3_downsample_batchnorm0_beta is done with shape:  (1024,)\n",
      "layer3_downsample_batchnorm0_running_mean is done with shape:  (1024,)\n",
      "layer3_downsample_batchnorm0_running_var is done with shape:  (1024,)\n",
      "layer3_1_conv0_weight is done with shape:  (256, 1024, 1, 1, 1)\n",
      "layer3_1_batchnorm0_gamma is done with shape:  (256,)\n",
      "layer3_1_batchnorm0_beta is done with shape:  (256,)\n",
      "layer3_1_batchnorm0_running_mean is done with shape:  (256,)\n",
      "layer3_1_batchnorm0_running_var is done with shape:  (256,)\n",
      "layer3_1_conv1_weight is done with shape:  (256, 256, 1, 3, 3)\n",
      "layer3_1_batchnorm1_gamma is done with shape:  (256,)\n",
      "layer3_1_batchnorm1_beta is done with shape:  (256,)\n",
      "layer3_1_batchnorm1_running_mean is done with shape:  (256,)\n",
      "layer3_1_batchnorm1_running_var is done with shape:  (256,)\n",
      "layer3_1_conv2_weight is done with shape:  (1024, 256, 1, 1, 1)\n",
      "layer3_1_batchnorm2_gamma is done with shape:  (1024,)\n",
      "layer3_1_batchnorm2_beta is done with shape:  (1024,)\n",
      "layer3_1_batchnorm2_running_mean is done with shape:  (1024,)\n",
      "layer3_1_batchnorm2_running_var is done with shape:  (1024,)\n",
      "layer3_2_conv0_weight is done with shape:  (256, 1024, 3, 1, 1)\n",
      "layer3_2_batchnorm0_gamma is done with shape:  (256,)\n",
      "layer3_2_batchnorm0_beta is done with shape:  (256,)\n",
      "layer3_2_batchnorm0_running_mean is done with shape:  (256,)\n",
      "layer3_2_batchnorm0_running_var is done with shape:  (256,)\n",
      "layer3_2_conv1_weight is done with shape:  (256, 256, 1, 3, 3)\n",
      "layer3_2_batchnorm1_gamma is done with shape:  (256,)\n",
      "layer3_2_batchnorm1_beta is done with shape:  (256,)\n",
      "layer3_2_batchnorm1_running_mean is done with shape:  (256,)\n",
      "layer3_2_batchnorm1_running_var is done with shape:  (256,)\n",
      "layer3_2_conv2_weight is done with shape:  (1024, 256, 1, 1, 1)\n",
      "layer3_2_batchnorm2_gamma is done with shape:  (1024,)\n",
      "layer3_2_batchnorm2_beta is done with shape:  (1024,)\n",
      "layer3_2_batchnorm2_running_mean is done with shape:  (1024,)\n",
      "layer3_2_batchnorm2_running_var is done with shape:  (1024,)\n",
      "layer3_3_conv0_weight is done with shape:  (256, 1024, 1, 1, 1)\n",
      "layer3_3_batchnorm0_gamma is done with shape:  (256,)\n",
      "layer3_3_batchnorm0_beta is done with shape:  (256,)\n",
      "layer3_3_batchnorm0_running_mean is done with shape:  (256,)\n",
      "layer3_3_batchnorm0_running_var is done with shape:  (256,)\n",
      "layer3_3_conv1_weight is done with shape:  (256, 256, 1, 3, 3)\n",
      "layer3_3_batchnorm1_gamma is done with shape:  (256,)\n",
      "layer3_3_batchnorm1_beta is done with shape:  (256,)\n",
      "layer3_3_batchnorm1_running_mean is done with shape:  (256,)\n",
      "layer3_3_batchnorm1_running_var is done with shape:  (256,)\n",
      "layer3_3_conv2_weight is done with shape:  (1024, 256, 1, 1, 1)\n",
      "layer3_3_batchnorm2_gamma is done with shape:  (1024,)\n",
      "layer3_3_batchnorm2_beta is done with shape:  (1024,)\n",
      "layer3_3_batchnorm2_running_mean is done with shape:  (1024,)\n",
      "layer3_3_batchnorm2_running_var is done with shape:  (1024,)\n",
      "layer3_4_conv0_weight is done with shape:  (256, 1024, 3, 1, 1)\n",
      "layer3_4_batchnorm0_gamma is done with shape:  (256,)\n",
      "layer3_4_batchnorm0_beta is done with shape:  (256,)\n",
      "layer3_4_batchnorm0_running_mean is done with shape:  (256,)\n",
      "layer3_4_batchnorm0_running_var is done with shape:  (256,)\n",
      "layer3_4_conv1_weight is done with shape:  (256, 256, 1, 3, 3)\n",
      "layer3_4_batchnorm1_gamma is done with shape:  (256,)\n",
      "layer3_4_batchnorm1_beta is done with shape:  (256,)\n",
      "layer3_4_batchnorm1_running_mean is done with shape:  (256,)\n",
      "layer3_4_batchnorm1_running_var is done with shape:  (256,)\n",
      "layer3_4_conv2_weight is done with shape:  (1024, 256, 1, 1, 1)\n",
      "layer3_4_batchnorm2_gamma is done with shape:  (1024,)\n",
      "layer3_4_batchnorm2_beta is done with shape:  (1024,)\n",
      "layer3_4_batchnorm2_running_mean is done with shape:  (1024,)\n",
      "layer3_4_batchnorm2_running_var is done with shape:  (1024,)\n",
      "layer3_5_conv0_weight is done with shape:  (256, 1024, 1, 1, 1)\n",
      "layer3_5_batchnorm0_gamma is done with shape:  (256,)\n",
      "layer3_5_batchnorm0_beta is done with shape:  (256,)\n",
      "layer3_5_batchnorm0_running_mean is done with shape:  (256,)\n",
      "layer3_5_batchnorm0_running_var is done with shape:  (256,)\n",
      "layer3_5_conv1_weight is done with shape:  (256, 256, 1, 3, 3)\n",
      "layer3_5_batchnorm1_gamma is done with shape:  (256,)\n",
      "layer3_5_batchnorm1_beta is done with shape:  (256,)\n",
      "layer3_5_batchnorm1_running_mean is done with shape:  (256,)\n",
      "layer3_5_batchnorm1_running_var is done with shape:  (256,)\n",
      "layer3_5_conv2_weight is done with shape:  (1024, 256, 1, 1, 1)\n",
      "layer3_5_batchnorm2_gamma is done with shape:  (1024,)\n",
      "layer3_5_batchnorm2_beta is done with shape:  (1024,)\n",
      "layer3_5_batchnorm2_running_mean is done with shape:  (1024,)\n",
      "layer3_5_batchnorm2_running_var is done with shape:  (1024,)\n",
      "layer4_0_conv0_weight is done with shape:  (512, 1024, 1, 1, 1)\n",
      "layer4_0_batchnorm0_gamma is done with shape:  (512,)\n",
      "layer4_0_batchnorm0_beta is done with shape:  (512,)\n",
      "layer4_0_batchnorm0_running_mean is done with shape:  (512,)\n",
      "layer4_0_batchnorm0_running_var is done with shape:  (512,)\n",
      "layer4_0_conv1_weight is done with shape:  (512, 512, 1, 3, 3)\n",
      "layer4_0_batchnorm1_gamma is done with shape:  (512,)\n",
      "layer4_0_batchnorm1_beta is done with shape:  (512,)\n",
      "layer4_0_batchnorm1_running_mean is done with shape:  (512,)\n",
      "layer4_0_batchnorm1_running_var is done with shape:  (512,)\n",
      "layer4_0_conv2_weight is done with shape:  (2048, 512, 1, 1, 1)\n",
      "layer4_0_batchnorm2_gamma is done with shape:  (2048,)\n",
      "layer4_0_batchnorm2_beta is done with shape:  (2048,)\n",
      "layer4_0_batchnorm2_running_mean is done with shape:  (2048,)\n",
      "layer4_0_batchnorm2_running_var is done with shape:  (2048,)\n",
      "layer4_downsample_conv0_weight is done with shape:  (2048, 1024, 1, 1, 1)\n",
      "layer4_downsample_batchnorm0_gamma is done with shape:  (2048,)\n",
      "layer4_downsample_batchnorm0_beta is done with shape:  (2048,)\n",
      "layer4_downsample_batchnorm0_running_mean is done with shape:  (2048,)\n",
      "layer4_downsample_batchnorm0_running_var is done with shape:  (2048,)\n",
      "layer4_1_conv0_weight is done with shape:  (512, 2048, 3, 1, 1)\n",
      "layer4_1_batchnorm0_gamma is done with shape:  (512,)\n",
      "layer4_1_batchnorm0_beta is done with shape:  (512,)\n",
      "layer4_1_batchnorm0_running_mean is done with shape:  (512,)\n",
      "layer4_1_batchnorm0_running_var is done with shape:  (512,)\n",
      "layer4_1_conv1_weight is done with shape:  (512, 512, 1, 3, 3)\n",
      "layer4_1_batchnorm1_gamma is done with shape:  (512,)\n",
      "layer4_1_batchnorm1_beta is done with shape:  (512,)\n",
      "layer4_1_batchnorm1_running_mean is done with shape:  (512,)\n",
      "layer4_1_batchnorm1_running_var is done with shape:  (512,)\n",
      "layer4_1_conv2_weight is done with shape:  (2048, 512, 1, 1, 1)\n",
      "layer4_1_batchnorm2_gamma is done with shape:  (2048,)\n",
      "layer4_1_batchnorm2_beta is done with shape:  (2048,)\n",
      "layer4_1_batchnorm2_running_mean is done with shape:  (2048,)\n",
      "layer4_1_batchnorm2_running_var is done with shape:  (2048,)\n",
      "layer4_2_conv0_weight is done with shape:  (512, 2048, 1, 1, 1)\n",
      "layer4_2_batchnorm0_gamma is done with shape:  (512,)\n",
      "layer4_2_batchnorm0_beta is done with shape:  (512,)\n",
      "layer4_2_batchnorm0_running_mean is done with shape:  (512,)\n",
      "layer4_2_batchnorm0_running_var is done with shape:  (512,)\n",
      "layer4_2_conv1_weight is done with shape:  (512, 512, 1, 3, 3)\n",
      "layer4_2_batchnorm1_gamma is done with shape:  (512,)\n",
      "layer4_2_batchnorm1_beta is done with shape:  (512,)\n",
      "layer4_2_batchnorm1_running_mean is done with shape:  (512,)\n",
      "layer4_2_batchnorm1_running_var is done with shape:  (512,)\n",
      "layer4_2_conv2_weight is done with shape:  (2048, 512, 1, 1, 1)\n",
      "layer4_2_batchnorm2_gamma is done with shape:  (2048,)\n",
      "layer4_2_batchnorm2_beta is done with shape:  (2048,)\n",
      "layer4_2_batchnorm2_running_mean is done with shape:  (2048,)\n",
      "layer4_2_batchnorm2_running_var is done with shape:  (2048,)\n",
      "dense0_weight is skipped with shape:  (100, 2048)\n",
      "dense0_bias is skipped with shape:  (100,)\n"
     ]
    }
   ],
   "source": [
    "net = get_model(name='i3d_resnet50_v1_custom', nclass=100)\n",
    "net.collect_params().reset_ctx(ctx)"
   ]
  },
  {
   "cell_type": "markdown",
   "id": "cb4a989d-d433-46d2-8949-83fbce92e982",
   "metadata": {},
   "source": [
    "**Here's a cell I set to `raw` rather than `code` to prevent it from executing because we do *not* need that much visual clutter most of the time.**"
   ]
  },
  {
   "cell_type": "raw",
   "id": "22f69b9f-0334-49b8-9e99-03d4bc0b00b4",
   "metadata": {
    "tags": []
   },
   "source": [
    "print(net)"
   ]
  },
  {
   "cell_type": "code",
   "execution_count": 8,
   "id": "481327bf-8f1b-4dd2-b0f6-2c94056ad1b1",
   "metadata": {},
   "outputs": [],
   "source": [
    "# Learning rate decay factor\n",
    "lr_decay = 0.4\n",
    "# Epochs where learning rate decays\n",
    "# lr_decay_epoch = [40, 80, 100]\n",
    "lr_decay_epoch = [15, 40, 80, 300, 1000]\n",
    "\n",
    "# Stochastic gradient descent\n",
    "optimizer = 'sgd'\n",
    "# Set parameters\n",
    "optimizer_params = {'learning_rate': INITIAL_LEARNING_RATE, 'wd': 0.0001, 'momentum': 0.9}\n",
    "\n",
    "# Define our trainer for net\n",
    "trainer = gluon.Trainer(net.collect_params(), optimizer, optimizer_params)"
   ]
  },
  {
   "cell_type": "code",
   "execution_count": 9,
   "id": "13b7fbc8-d477-4458-9091-dd6c445b5b64",
   "metadata": {},
   "outputs": [],
   "source": [
    "loss_fn = gluon.loss.SoftmaxCrossEntropyLoss()"
   ]
  },
  {
   "cell_type": "code",
   "execution_count": 10,
   "id": "28f5b0d3-0601-46e7-8ae5-8ed38f6daf19",
   "metadata": {},
   "outputs": [],
   "source": [
    "train_metric, val_metric = mx.metric.Accuracy(), mx.metric.Accuracy()\n",
    "train_history = TrainingHistory(['training-acc', 'validation-acc'])"
   ]
  },
  {
   "cell_type": "code",
   "execution_count": 11,
   "id": "09de345f-bdd7-4a56-9116-987b0f1fe376",
   "metadata": {},
   "outputs": [],
   "source": [
    "# Keeps track of how many epochs the model has been training for, total, not just in this session.\n",
    "total_epochs = 0"
   ]
  },
  {
   "cell_type": "markdown",
   "id": "5670cf2a-81a9-4306-ba0c-6c93d6b5306d",
   "metadata": {},
   "source": [
    "**We have now set up everything we would need to run from the start, but it is better to try to load the progress we have made so far.**"
   ]
  },
  {
   "cell_type": "code",
   "execution_count": 12,
   "id": "405a66d8-006f-4905-be52-004e9cd54c66",
   "metadata": {},
   "outputs": [],
   "source": [
    "try:\n",
    "    unpickle_stuff()\n",
    "except FileNotFoundError:\n",
    "    print('''Couldn't find at least one file on this list:\n",
    "    preserved_epoch_count.pkl\n",
    "    preserved_history.pkl\n",
    "    preserved_params_{epoch_count}.params\n",
    "This may cause unintended behavior.\n",
    "Deleting all of these files will force a total reset.''')"
   ]
  },
  {
   "cell_type": "markdown",
   "id": "f8be62c9-daf2-4f86-b8e3-ae84fefa678f",
   "metadata": {},
   "source": [
    "**This cell is the cell that actually runs training.  Run it as many times, with as many `epochs` as you wish.**  Thanks to <https://mxnet.apache.org/versions/1.9.1/api/python/docs/tutorials/packages/gluon/data/datasets.html> for help adding a validation loop.  **NOTE:** Rerunning this cell resets the learning rate decay.  Scroll up to just below the cell that says **Here's a cell I set to `raw`** and modify the learning rate decay if desired."
   ]
  },
  {
   "cell_type": "markdown",
   "id": "9aa9286c-49b3-4f9c-8359-b8dcd272c2ca",
   "metadata": {},
   "source": [
    "`autosave_frequency` (now defined at the top as `AUTOSAVE_FREQUENCY`) controls the frequency of several things:\n",
    "\n",
    "- How often it runs a validation loop (because it doesn't need to do this every time; that's a waste of time)\n",
    "- How often it preserves the leftovers (because a file of saved parameters for EVERY SINGLE EPOCH is a bit much)\n",
    "- How often it prints out a graph (doing so for every epoch would just be cluttered).\n"
   ]
  },
  {
   "cell_type": "code",
   "execution_count": 13,
   "id": "76095f14-77d6-4c4f-a076-f466e63cfb05",
   "metadata": {},
   "outputs": [
    {
     "name": "stderr",
     "output_type": "stream",
     "text": [
      "[21:38:13] ../src/operator/nn/./cudnn/./cudnn_algoreg-inl.h:96: Running performance tests to find the best convolution algorithm, this can take a while... (set the environment variable MXNET_CUDNN_AUTOTUNE_DEFAULT to 0 to disable)\n"
     ]
    },
    {
     "name": "stdout",
     "output_type": "stream",
     "text": [
      "[Epoch 401] train=0.904950 val=0.601980 loss=0.486151 time: 290.743215\n"
     ]
    },
    {
     "data": {
      "image/png": "[encoded data removed]",
      "text/plain": [
       "<Figure size 432x288 with 1 Axes>"
      ]
     },
     "metadata": {
      "needs_background": "light"
     },
     "output_type": "display_data"
    }
   ],
   "source": [
    "epochs = EPOCHS\n",
    "lr_decay_count = 0\n",
    "\n",
    "autosave_frequency = AUTOSAVE_FREQUENCY\n",
    "\n",
    "for epoch in range(epochs):\n",
    "    tic = time.time()\n",
    "    train_metric.reset()\n",
    "    train_loss = 0\n",
    "\n",
    "    # Learning rate decay\n",
    "    if epoch == lr_decay_epoch[lr_decay_count]:\n",
    "        trainer.set_learning_rate(trainer.learning_rate*lr_decay)\n",
    "        lr_decay_count += 1\n",
    "\n",
    "    # Loop through each batch of training data\n",
    "    for i, batch in enumerate(train_data):\n",
    "        # Extract data and label\n",
    "        data = split_and_load(batch[0], ctx_list=ctx, batch_axis=0)\n",
    "        label = split_and_load(batch[1], ctx_list=ctx, batch_axis=0)\n",
    "\n",
    "        # AutoGrad\n",
    "        with ag.record():\n",
    "            output = []\n",
    "            for _, X in enumerate(data):\n",
    "                X = X.reshape((-1,) + X.shape[2:])\n",
    "                pred = net(X)\n",
    "                output.append(pred)\n",
    "            loss = [loss_fn(yhat, y) for yhat, y in zip(output, label)]\n",
    "\n",
    "        # Backpropagation\n",
    "        for l in loss:\n",
    "            l.backward()\n",
    "\n",
    "        # Optimize\n",
    "        trainer.step(batch_size)\n",
    "\n",
    "        # Update metrics\n",
    "        train_loss += sum([l.mean().asscalar() for l in loss])\n",
    "        train_metric.update(label, output)\n",
    "\n",
    "        if i == 100:\n",
    "            break\n",
    "    \n",
    "    if epoch == 0 or (total_epochs % autosave_frequency == autosave_frequency - 1):\n",
    "        val_metric.reset()\n",
    "        \n",
    "        # Loop through each batch of validation data\n",
    "        for i, batch in enumerate(val_data):\n",
    "            # Extract data and label\n",
    "            data = split_and_load(batch[0], ctx_list=ctx, batch_axis=0)\n",
    "            label = split_and_load(batch[1], ctx_list=ctx, batch_axis=0)\n",
    "\n",
    "            # The autograd prediction / loss calculation, except without the autograd\n",
    "            output = []\n",
    "            for _, X in enumerate(data):\n",
    "                X = X.reshape((-1,) + X.shape[2:])\n",
    "                pred = net(X)\n",
    "                output.append(pred)\n",
    "            loss = [loss_fn(yhat, y) for yhat, y in zip(output, label)]\n",
    "            \n",
    "            if SAVE_VALIDATION_VIDEOS:\n",
    "                data_u = data[0]\n",
    "\n",
    "                # Save videos\n",
    "                for j in range(label[0].shape[0]):\n",
    "                    # Video is at data[j, 0]??\n",
    "                    vid_data = data_u[j, 0].asnumpy()\n",
    "                   # vid_data = vid_data.reshape((32, 224, 224, 3))\n",
    "                    vid_data_2 = np.zeros((32, 224, 224, 3), dtype=np.float32)\n",
    "                    vid_data_2[:,:,:,0] = vid_data[0]\n",
    "                    vid_data_2[:,:,:,1] = vid_data[1]\n",
    "                    vid_data_2[:,:,:,2] = vid_data[2]\n",
    "                    vid_data = np.interp(vid_data_2, (vid_data_2.min(), vid_data_2.max()), (0, 255)).astype(np.uint8)\n",
    "                    \n",
    "                    concrete_pred = predict_classes(output[0][j])\n",
    "                    if not label[0][j] == concrete_pred[0]:\n",
    "                        imageio.mimwrite(f'videodir/validation_feedback/{filestem}fail_{total_epochs}_{i}_{j}.mp4', vid_data, fps=15, macro_block_size=16)\n",
    "                        with open(f'videodir/validation_feedback/{filestem}_list.txt', 'a') as file:\n",
    "                            file.write(f\"FAIL: Video {total_epochs}_{i}_{j} has label {label[0][j].asscalar()}, predicted top 5 {concrete_pred[:5]}.\")\n",
    "                    else:\n",
    "                        imageio.mimwrite(f'videodir/validation_feedback/{filestem}succ_{total_epochs}_{i}_{j}.mp4', vid_data, fps=15, macro_block_size=16)\n",
    "                        with open(f'videodir/validation_feedback/{filestem}_list.txt', 'a') as file:\n",
    "                            file.write(f\"SUCCESS: Video {total_epochs}_{i}_{j} has label {label[0][j].asscalar()}, predicted top 5 {concrete_pred[:5]}.\")\n",
    "            \n",
    "            # Update metrics\n",
    "            val_metric.update(label, output)\n",
    "\n",
    "            if i == 100:\n",
    "                break\n",
    "\n",
    "    train_name, train_acc = train_metric.get()\n",
    "    val_name, val_acc = val_metric.get()\n",
    "\n",
    "    # Update history and print metrics\n",
    "    train_history.update([train_acc, val_acc])\n",
    "    \n",
    "    print('[Epoch %d] train=%f val=%f loss=%f time: %f' %\n",
    "        (total_epochs, train_acc, val_acc, train_loss / (i+1), time.time()-tic))\n",
    "    \n",
    "    total_epochs += 1\n",
    "    if epoch == 0 or total_epochs % autosave_frequency == 0:\n",
    "        pickle_stuff()\n",
    "        train_history.plot(legend_loc='lower right')"
   ]
  },
  {
   "cell_type": "markdown",
   "id": "8c82b137-e536-4b1a-be31-140357dd7f83",
   "metadata": {},
   "source": [
    "**Debrief: save any progress since the last autosave and print out the latest information.**"
   ]
  },
  {
   "cell_type": "code",
   "execution_count": 14,
   "id": "09efb644-8f22-4737-bcab-4389f4b35a73",
   "metadata": {},
   "outputs": [],
   "source": [
    "pickle_stuff()"
   ]
  },
  {
   "cell_type": "code",
   "execution_count": 15,
   "id": "16e33bb2-f708-4742-ab36-c06473efc9cd",
   "metadata": {},
   "outputs": [
    {
     "name": "stdout",
     "output_type": "stream",
     "text": [
      "[Epoch 402] train=0.904950 val=0.601980 loss=0.486151\n"
     ]
    }
   ],
   "source": [
    "print('[Epoch %d] train=%f val=%f loss=%f' %\n",
    "        (total_epochs, train_acc, val_acc, train_loss / (i+1)))"
   ]
  },
  {
   "cell_type": "code",
   "execution_count": 16,
   "id": "e192f549-09ba-4192-914d-3df7ea37c8b6",
   "metadata": {
    "tags": []
   },
   "outputs": [
    {
     "data": {
      "image/png": "[encoded data removed]",
      "text/plain": [
       "<Figure size 432x288 with 1 Axes>"
      ]
     },
     "metadata": {
      "needs_background": "light"
     },
     "output_type": "display_data"
    }
   ],
   "source": [
    "train_history.plot(legend_loc='lower right')"
   ]
  },
  {
   "cell_type": "raw",
   "id": "a25b0f11-6a17-405f-ab79-e1af45a2946c",
   "metadata": {},
   "source": []
  }
 ],
 "metadata": {
  "kernelspec": {
   "display_name": "MXNet",
   "language": "python",
   "name": "mxnet"
  },
  "language_info": {
   "codemirror_mode": {
    "name": "ipython",
    "version": 3
   },
   "file_extension": ".py",
   "mimetype": "text/x-python",
   "name": "python",
   "nbconvert_exporter": "python",
   "pygments_lexer": "ipython3",
   "version": "3.9.12"
  }
 },
 "nbformat": 4,
 "nbformat_minor": 5
}
